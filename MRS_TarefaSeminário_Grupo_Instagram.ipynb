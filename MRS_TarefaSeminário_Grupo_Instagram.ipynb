{
  "nbformat": 4,
  "nbformat_minor": 0,
  "metadata": {
    "colab": {
      "name": "MRS_TarefaSeminário_Grupo_Instagram.ipynb",
      "version": "0.3.2",
      "provenance": [],
      "collapsed_sections": []
    },
    "kernelspec": {
      "name": "python3",
      "display_name": "Python 3"
    }
  },
  "cells": [
    {
      "cell_type": "markdown",
      "metadata": {
        "id": "NGoKGPloYop-",
        "colab_type": "text"
      },
      "source": [
        "#Mineração de Redes Sociais\n",
        "**Professor: Sérgio Nery Simões**\n",
        "\n",
        "Alunos:\n",
        "\n",
        "Pablo Simões Nascimento\n",
        "Fábio Junior Schneider Marcelino\n",
        "Marcio Rezende\n",
        "Raphael Nardoto Barboza\n",
        "\n",
        "Data: 08/07/2019\n",
        "\n",
        "##Seminário: Estudo de Ferramentas de Redes Sociais Modernas##"
      ]
    },
    {
      "cell_type": "markdown",
      "metadata": {
        "id": "gwC10LtogQPp",
        "colab_type": "text"
      },
      "source": [
        "# INTRODUÇÃO"
      ]
    },
    {
      "cell_type": "markdown",
      "metadata": {
        "id": "B7j0x8oxcRQv",
        "colab_type": "text"
      },
      "source": [
        "##Redes Sociais\n",
        "\n",
        "Em algumas definições, redes sociais são qualquer tipo de meio que proporcione a comunicação entre pessoas.\n",
        "\n",
        "\n",
        "Já nos tempos modernos, rede social é como são chamados serviços que, usando a internet, permitem que as pessoas se conectem umas com as outras instantaneamente.\n",
        "\n",
        "\n",
        "Um dos precursores, ainda na era da internet discada, foi a AOL e seu Instant Messenger, lançado em 1997.\n",
        "\n",
        "\n",
        "Na mesma época outros mensageiros como o MSN e o ICQ surgiram e se tornaram base para as redes sociais atuais.\n",
        "\n",
        "\n",
        "MSN ganhou força no Brasil nos anos 2000.\n",
        "\n",
        "\n",
        "Em 2014 surgiu o Orkut.\n"
      ]
    },
    {
      "cell_type": "markdown",
      "metadata": {
        "id": "brEiRb02b6Y1",
        "colab_type": "text"
      },
      "source": [
        "##Instagram\n",
        "\n",
        "Instagram é um serviço de rede social de compartilhamento de fotos e vídeos de propriedade da Facebook, Inc. \n",
        "\n",
        "\n",
        "Foi criado por Kevin Systrom e Mike Krieger e lançado em outubro de 2010 exclusivamente no iOS. \n",
        "\n",
        "Redes Sociais\n",
        "\n",
        "Em algumas definições, redes sociais são qualquer tipo de meio que proporcione a comunicação entre pessoas.\n",
        "\n",
        "\n",
        "Já nos tempos modernos, rede social é como são chamados serviços que, usando a internet, permitem que as pessoas se conectem umas com as outras instantaneamente.\n",
        "\n",
        "\n",
        "Um dos precursores, ainda na era da internet discada, foi a AOL e seu Instant Messenger, lançado em 1997.\n",
        "\n",
        "\n",
        "Na mesma época outros mensageiros como o MSN e o ICQ surgiram e se tornaram base para as redes sociais atuais.\n",
        "\n",
        "\n",
        "MSN ganhou força no Brasil nos anos 2000.\n",
        "\n",
        "\n",
        "Em 2014 surgiu o Orkut.\n",
        "\n",
        "\n"
      ]
    },
    {
      "cell_type": "markdown",
      "metadata": {
        "id": "_gkNrLjeuIn7",
        "colab_type": "text"
      },
      "source": [
        "![alt text](https://txqsdw.sn.files.1drv.com/y4mm5mS0p6nrHBOmmSHYOqNJDY7ExedX-yKE5TqDFg31qt069M2DDDRdjLepB9MK57mlbPnMdIy-kjjlzB0nCw7rcjjqhO-iVraTXWv-hmb46FRajiCe0Q11rq3uxC5rmjrOYml8F9ph7yrK8tSA8oOKf7wCtHJFcmE5dckuf0rFF4Q8s7YTZ6edRcY0s9wfhbeYM71DQ4HJywMl5guww4Jow?width=729&height=409&cropmode=none)"
      ]
    },
    {
      "cell_type": "markdown",
      "metadata": {
        "id": "oYqvlkQVua3P",
        "colab_type": "text"
      },
      "source": [
        "![alt text](https://txrpsq.sn.files.1drv.com/y4mzNIi23PnWQLrq0CMhL10UyO6Bw-Y-D79UNfVGvskMNQzz2h_V2ujL2b_HjRHc-QfF7Sio9mG85fp9cRGkbw-mC9pjGSwR8DGsxQoSgYjqKGYDXf5qevLwxmk3VLDc1TkZsQZneU8T--MQsriySblAc2mJATHBEInGXtmM6emTVYN7JEpDNjoyyHRD1qWGcjs7sTLZyDl1JncFl6JdwtFJw?width=1024&height=536&cropmode=none)\n",
        "https://www.goobec.com.br/blog/redes-sociais-dados-estatisticos-2018/"
      ]
    },
    {
      "cell_type": "markdown",
      "metadata": {
        "id": "2sIJTwmUcUUe",
        "colab_type": "text"
      },
      "source": [
        "##Publicidade de marcas e popularidade##\n",
        "\n",
        "\"O Instagram está se tornando a plataforma de mídia social número um quando se trata de engajamento de marcas. Quando olhamos para o engajamento em um nível absoluto, o Instagram tem um alcance maior por marcas do que o Facebook, apesar de ter um tamanho de público significativamente menor. Como resultado, vemos as empresas migrando seus investimentos para o Instagram\", \n",
        "\n",
        "Alexandra Avelar, Country Manager da Socialbakers.\n"
      ]
    },
    {
      "cell_type": "markdown",
      "metadata": {
        "id": "qfGaYf1FvCWu",
        "colab_type": "text"
      },
      "source": [
        "##O que as pessoas postam##\n",
        "![alt text](https://txs0mg.sn.files.1drv.com/y4mX_s7JN6U8l1xDklShlFrTckBFA0-8hLtpyD-jnoq-HxI_M0JuzT6lAg7-SmhfB89RTgT2QWS_jp4mxXNGhs33oZAaPRTulhiYc_5Z61rMpv40jFa70oga76GRIfVq_y3ustYUP5pqFkFI1wFAgU7siDpRROTzhOEUi4GsKgKudjjw34Swf5-BLcCfI5UCqxeoEOnj0-NzgkTvPzUgDIvNg?width=787&height=327&cropmode=none)\n",
        "\n",
        "https://projetual.com.br/melhores-tipos-de-posts-no-instagram/"
      ]
    },
    {
      "cell_type": "markdown",
      "metadata": {
        "id": "Apf014G3vwdR",
        "colab_type": "text"
      },
      "source": [
        "##Como as pessoas mais interagem##\n",
        "\n",
        "![alt text](https://txtj1a.sn.files.1drv.com/y4myp-v8VffFmeHpJvZ5DjLMydkObNSElnFvRmHoTV9vER3CevTu-ByjXsmJaEMvuqhS6ul1O7n4crKOXECcBKboYr3aG5VhAerWgZF8oH_niUwSTkB8jQgPkCSTHU_it7Az4Iiyjs926A0Mnj0SRPHWRjQ96zxwHgH6v6qabv6S8dGRSmyTCrBkSP5BOS6gWhuBXTkESzEI2bJfpF_5RFCrw?width=773&height=641&cropmode=none)\n",
        "\n",
        "https://projetual.com.br/melhores-tipos-de-posts-no-instagram/"
      ]
    },
    {
      "cell_type": "markdown",
      "metadata": {
        "id": "rij0xT9wxAsU",
        "colab_type": "text"
      },
      "source": [
        "##Uso de hashtags##\n",
        "![alt text](https://txrwuw.sn.files.1drv.com/y4mDNCRvJ9gyv6ZCEHH0iNugtw9WDtXp7NVivFZL_yd454CtLPs5zjgkIZptAPdQ1VTlMjCL186iRFlGmUwLdN9P8RKDi8DX4kOBQhuhocEO4Ie27wxqAvUF3gQIZPHbM8shd_nTmw3av628YRsB2UPQ3yqCm4tlaBMT6QVDSRUn7V5XtHxMnAYq7aW-mJaOpgY2JA9WTR7YUPsn3C70DuZhg?width=650&height=389&cropmode=none)\n",
        "\n",
        "https://www.quintly.com/blog/instagram-study"
      ]
    },
    {
      "cell_type": "markdown",
      "metadata": {
        "id": "pHjqtzaMc4Vu",
        "colab_type": "text"
      },
      "source": [
        "# Tipo de rede: estudo do Instagram\n",
        "\n",
        "##Small World  ou Scale Free?##\n",
        "\n",
        "Um simples modelo representando a relação de “follow” entre usuários mostrou que não segue nenhum modelo particular e é totalmente arbitrário\n",
        "\n",
        "Fotos tem um importante papel nesta rede social, então faz sentido representar Instagram como um grafo de fotos\n",
        "\n",
        "Duas abordagens de análise comparativa:\n",
        "Baseada nos usuários seguindo uns aos outros (“Follow Graph” - dirigido)\n",
        "Baseada nos likes de usuários sobre a mesma imagem (Like Graph)\n"
      ]
    },
    {
      "cell_type": "markdown",
      "metadata": {
        "id": "fg_uJ2BxdGoC",
        "colab_type": "text"
      },
      "source": [
        "##Propriedades em análise##\n",
        "\n",
        "Coeficiente de Clustering\n",
        "O coeficiente de clusterização de um nó é o quão completo é o grafo contendo todos os vizinhos desse nó\n",
        "\n",
        "Graus de Separação\n",
        "É o número de arestas no caminho mínimo entre dois nós\n",
        "\n",
        "Normalmente as redes sociais são grafos de mundo pequeno ou livres de escala\n",
        "Essas duas propriedades definem o tipo do grafo\n"
      ]
    },
    {
      "cell_type": "markdown",
      "metadata": {
        "id": "qeAtAbd2dO7B",
        "colab_type": "text"
      },
      "source": [
        "##Considerações##\n",
        "\n",
        "Se um grafo tem um valor alto da média do coeficiente de clustering e um valor baixo da média dos graus de separação, então é um grafo do tipo Small World\n",
        "\n",
        "Se um grafo tem um valor baixo da média do coeficiente de clustering e um valor alto da média dos graus de separação, então é um grafo do tipo Scale Free\n"
      ]
    },
    {
      "cell_type": "markdown",
      "metadata": {
        "id": "02gjkyBrdZL6",
        "colab_type": "text"
      },
      "source": [
        "##Base de dados e abordagem##\n",
        "\n",
        "2000 usuários\n",
        "50000 fotos\n",
        "Propriedades incluídas: usuários e seus seguidores, usuário que posta fotos (uploader), usuários que deram like em fotos, datas dos posts e tag das fotos.\n",
        "Subsampling dos grafos principais\n",
        "Geraram grafos aleatórios de mesmo tamanho das amostras, com as mesmas propriedades, porém, com características de Small World (modelo de Watts Strogatz) e Scale Free (modelo de Albert Barabasi)\n"
      ]
    },
    {
      "cell_type": "markdown",
      "metadata": {
        "id": "GF67FGzx0IGQ",
        "colab_type": "text"
      },
      "source": [
        "##Análise Comparativa: Follow Graph##\n",
        "![alt text](https://tj8fsq.sn.files.1drv.com/y4mBFydJvWBVugjTitQIZli5fxtEYOEGmaIkHuPFSVtyXgKjYtEdZobefC-0FVzSeeWK1gDgB6KWwoi22wF1SAIf_i25SD5sTXJxIt-sF-siBIBE9rg-_ZjZaaoqw5r9X3EJC9HLfWZ1BGfDNpKvQYEtAVGjJdFjZLRmb5fc0yEoYGSDD727t8li-JNAbGuTayYzqPiILt8j1a0EVWkxtzRFA?width=557&height=387&cropmode=none)\n",
        "\n",
        "https://www.academia.edu/26984670/Studying_the_behavior_of_Instagram_network\n",
        "\n"
      ]
    },
    {
      "cell_type": "markdown",
      "metadata": {
        "id": "BOPj976X0qE3",
        "colab_type": "text"
      },
      "source": [
        "##Análise Comparativa: Like Graph##\n",
        "![alt text](https://tjpgvq.sn.files.1drv.com/y4m575iOf0mOhfClhv4QO1Umy6Tx6lznGkB7t6iuJ1zsPkhje9Ynd3Rm_Xo3AnmJXPpv8Nxl_ejaxk8y8lX2AuDnw8MC9GAXfq_BXNvRXf9UIXZEOScGLVXTNcXkeyKLb73c2Sz0n7CX-YFgxOFu6KXL2u7RKikE8ilfSnmRY21Fx96VghJyT3oUAB_dFb--Xy_VO8EQO93WCsiaMA3ORmZ8Q?width=563&height=399&cropmode=none)\n",
        "\n",
        "https://www.academia.edu/26984670/Studying_the_behavior_of_Instagram_network"
      ]
    },
    {
      "cell_type": "markdown",
      "metadata": {
        "id": "SBqlkMjOdlSp",
        "colab_type": "text"
      },
      "source": [
        "##Conclusão da análise comparativa##\n",
        "\n",
        "O estudo mostra que a rede do Instagram, diferente da maioria das redes sociais, não é centrada no usuário, mas os clusters são formados em torno do conteúdo postado por eles\n",
        "Pessoas que gostam das mesmas fotos formam fortes agrupamentos em clusters\n",
        "O grafo de fotos tendeu a ser uma rede Small World \n",
        "Isso ajuda a determinar a importância dos nós em termos de alta conectividade e alta afinidade\n",
        "\n"
      ]
    },
    {
      "cell_type": "markdown",
      "metadata": {
        "id": "w5RNC9dj1pzu",
        "colab_type": "text"
      },
      "source": [
        "#Instagram - Prática#\n",
        "##GraphAPI##\n",
        "![alt text](https://tjqpxw.sn.files.1drv.com/y4my5jaVOnL5W5tgoFJK1Za0qI7JAJBNCothd21z9UYimhvvz2t8zHYlcrsAuTYGk260z_EKCJs8ciPWk5BO7PsZ8uJE5nkN0GwRlFlcxuT2JeJOI3BZEAeZHOjvKT5X_OlP3DmaUbrOp9cpMxUKg0biD_AxqlYe-SZsI4b28usO6nefU8VR-U1PuwOHq0996ZJ8HSVWhu4Ojp_4JpIt1yqJA?width=785&height=442&cropmode=none)"
      ]
    },
    {
      "cell_type": "markdown",
      "metadata": {
        "id": "D9JtJSdP2K8Z",
        "colab_type": "text"
      },
      "source": [
        "![alt text](https://tj9q1a.sn.files.1drv.com/y4mQs8fcnL62WLJsSw8AxrI1ht7iChrsPyDVs7RZaQYA8_qX3pycx_3SJ66IuzHXcywNo3z13SatQzv1z_-tsmvjVYnRBALpkqbZREpybGKBYEn3YevtRs43o3QsM3ggyCldjxw4YLpFRXQAD2yRptNFSHktxPh-Mfr8Ot5O9xaJIfVU6yObX7IlPFH3kq3IlETpi-3rg2UpyVlA5wUqYnq-g?width=785&height=442&cropmode=none)"
      ]
    },
    {
      "cell_type": "markdown",
      "metadata": {
        "id": "mRTDEfDR2Vv9",
        "colab_type": "text"
      },
      "source": [
        "![alt text](https://tj9xgw.sn.files.1drv.com/y4mYgVgbEJx1aYIOreljLfO40kg1HVyfSOywjHE6l_fjzaHfW8uxNqduNT3PkThQ9F5viaPMO0Pet5-F_Qi2aIBhoGNVnIvK069FeYRTM82v8KnZjmEMJ5i7nhlssA7OOuAbYcYPdQqJqaO5W1xyY5gXqYozzYUQzUNZ-qCkXmgBJPv12uivIUNJSxeY7IHDWltBKyyg4KnbTKqCUrSX8mlNw?width=785&height=442&cropmode=none)"
      ]
    },
    {
      "cell_type": "markdown",
      "metadata": {
        "id": "DfOQy22Y2boH",
        "colab_type": "text"
      },
      "source": [
        "![alt text](https://tj8mka.sn.files.1drv.com/y4m6NVyf3IFiziOalf0MWryoYFEPFyQMvWXIT58n1UYZm3aAxj9kcVb3qIXUobwVYN8FBswFcO-yBLPhYTuBqviavNOKJdpLYPmceu-r1DKZ9h3RVWnh2zyWTU8nNZegZyo5Mgnpz20NIgsodUhwd6pS9We_eLQwRPS7Kk6st3CJ1r6rmlE57HyvSLeYkPYmgQ3YCaiVAuKaYoHdPZ8osnIhA?width=876&height=442&cropmode=none)"
      ]
    },
    {
      "cell_type": "markdown",
      "metadata": {
        "id": "sC_o4AJCdtZZ",
        "colab_type": "text"
      },
      "source": [
        "# Instagram\t - Restrições\n",
        "\n",
        "**Plataforma de API do Instagram: descontinuação**\n",
        "\n",
        "“Nós estaremos desaprovando a antiga Plataforma da API do Instagram em três fases, com descontinuidade completa ocorrendo no início de 2020.\n",
        "Os seguintes estarão disponíveis até 31 de julho de 2018 :\n",
        "Lista de seguidores - para ler a lista de seguidores e usuários seguidos\n",
        "Relacionamentos - para seguir e deixar de seguir as contas em nome de um usuário\n",
        "Comentando sobre o conteúdo público - para postar e excluir comentários em nome de um usuário na mídia pública”\n",
        "\n",
        "Os seguintes recursos estarão disponíveis até 11 de dezembro de 2018 :\n",
        "Comentando - para postar e excluir comentários em nome de um usuário em mídia de propriedade\n",
        "Conteúdo público - para ler qualquer informação de perfil público e mídia em nome de um usuário\n",
        "Curtir- Curtir e Descurtir mídia em nome de um usuário\n",
        "Assinaturas - para receber notificações quando a mídia é postada\n",
        "\n",
        "O Instagram, assim como Facebook, parou de receber submissões para novos aplicativos parceiros da plataforma. Desenvolvedores disseram que a mudança não estava agendada, nem mesmo foram notificados sobre a as novidades da API para que pudessem adaptar seus aplicativos para que continuem funcionando no Instagram.\n",
        "\n",
        "\n",
        "\n",
        "\n",
        "\n"
      ]
    },
    {
      "cell_type": "markdown",
      "metadata": {
        "id": "3N55rj8Z2vRc",
        "colab_type": "text"
      },
      "source": [
        "![alt text](https://tj87mg.sn.files.1drv.com/y4mo22cse7p_Pp3zplk_BZLegZgPt96lEmyXDWOP-u0iAx0r5-ANtwkDoXVNwyyrvkUya0vQMHrxfDYUjsTMU0WMDhrTsCEZWuCgpd5_L6BKylMzSIe9jOo4gRo6XDj_lRVy8SSwhmAP-1FHbrig3FG7JMkKvZbyRKk-lpyh_l3KvYSebkaV51OFaC-vIVYZHVDl93DnZ_4FONFjkjEzb2JDQ?width=928&height=426&cropmode=none)"
      ]
    },
    {
      "cell_type": "markdown",
      "metadata": {
        "id": "DuIe0RtW293p",
        "colab_type": "text"
      },
      "source": [
        "![alt text](https://tjqwpg.sn.files.1drv.com/y4mwlgVjNagK8RYWtXXPzVE9olrWv-f8pDTlYxRTjE-LUbxLQ1_tU8wPSeVMjok8rSy14akTgfITCZHkZ1sfgV9rcm2g5UAzhZ8F19HuZaIuqn9LKHmrGIHcUZSrhQQkQvUCOYfY-eU-zea-OY5-UdUBRrljJ73P1vMz3WLAmSGmmsk24suJVLyzj9pTRuj7mcC0sFAp-eX_BwLnZGRU5JeKQ?width=928&height=402&cropmode=none)"
      ]
    },
    {
      "cell_type": "markdown",
      "metadata": {
        "id": "dclRSkLnKsb4",
        "colab_type": "text"
      },
      "source": [
        "# Prática com o InstagramAPI\n",
        "\n",
        "---\n",
        "\n",
        "\n",
        "Essa é uma versão não oficial da API do Instagram, pois a versão oficial, está com o acesso bloqueado."
      ]
    },
    {
      "cell_type": "markdown",
      "metadata": {
        "id": "Yv5tTiTLLQmS",
        "colab_type": "text"
      },
      "source": [
        "I)Instalando o Pacote da API"
      ]
    },
    {
      "cell_type": "code",
      "metadata": {
        "id": "QgnegKQvKetj",
        "colab_type": "code",
        "colab": {}
      },
      "source": [
        "pip install InstagramApi"
      ],
      "execution_count": 0,
      "outputs": []
    },
    {
      "cell_type": "markdown",
      "metadata": {
        "id": "N_zi2Sl7LSNQ",
        "colab_type": "text"
      },
      "source": [
        "Importando a biblioteca"
      ]
    },
    {
      "cell_type": "code",
      "metadata": {
        "id": "iGD9tSjvKio7",
        "colab_type": "code",
        "colab": {}
      },
      "source": [
        "from InstagramAPI import InstagramAPI"
      ],
      "execution_count": 0,
      "outputs": []
    },
    {
      "cell_type": "markdown",
      "metadata": {
        "id": "jqEsRsZmLVpU",
        "colab_type": "text"
      },
      "source": [
        "Definindo a função que recupera os seguidores da página"
      ]
    },
    {
      "cell_type": "code",
      "metadata": {
        "id": "ieqmRvPlKjYF",
        "colab_type": "code",
        "outputId": "bfe591af-52f9-438b-f153-3a0109c00e8c",
        "colab": {
          "base_uri": "https://localhost:8080/",
          "height": 145
        }
      },
      "source": [
        "from InstagramAPI import InstagramAPI\n",
        "import time\n",
        "from datetime import datetime\n",
        "\n",
        "username = 'youusername'\n",
        "pwd = 'yourpassword'\n",
        "\n",
        "\n",
        "API = InstagramAPI(username,pwd)\n",
        "API.login()\n",
        "user_id  = API.username_id\n",
        "\n",
        "API.getUsernameInfo(user_id)\n",
        "API.LastJson\n",
        "following   = []\n",
        "next_max_id = True\n",
        "while next_max_id:\n",
        "    print(next_max_id)\n",
        "    #first iteration hack\n",
        "    if next_max_id == True: next_max_id=''\n",
        "    _ = API.getUserFollowings(user_id,maxid=next_max_id)\n",
        "    following.extend ( API.LastJson.get('users',[]))\n",
        "    next_max_id = API.LastJson.get('next_max_id','')\n",
        "\n",
        "len(following)\n",
        "unique_following = {\n",
        "    f['pk'] : f\n",
        "    for f in following\n",
        "}\n",
        "len(unique_following)"
      ],
      "execution_count": 0,
      "outputs": [
        {
          "output_type": "stream",
          "text": [
            "Request return 405 error!\n",
            "{'message': '', 'status': 'fail'}\n",
            "Request return 404 error!\n",
            "Login success!\n",
            "\n",
            "True\n"
          ],
          "name": "stdout"
        },
        {
          "output_type": "execute_result",
          "data": {
            "text/plain": [
              "2"
            ]
          },
          "metadata": {
            "tags": []
          },
          "execution_count": 6
        }
      ]
    },
    {
      "cell_type": "markdown",
      "metadata": {
        "id": "jFGrijnyUb-u",
        "colab_type": "text"
      },
      "source": [
        "Função que recupera os posts da conta fornecida"
      ]
    },
    {
      "cell_type": "code",
      "metadata": {
        "id": "bOVmKC8De936",
        "colab_type": "code",
        "colab": {}
      },
      "source": [
        "def get_my_posts(api):\n",
        "    '''Retrieve all posts from own profile'''\n",
        "    my_posts = []\n",
        "    has_more_posts = True\n",
        "    max_id= ''\n",
        "\n",
        "    while has_more_posts:\n",
        "        api.getSelfUserFeed(maxid=max_id)\n",
        "        if api.LastJson['more_available'] is not True:\n",
        "            has_more_posts = False #stop condition\n",
        "\n",
        "        max_id = api.LastJson.get('next_max_id','')\n",
        "        my_posts.extend(api.LastJson['items']) #merge lists\n",
        "        time.sleep(2) # slows down to avoid flooding\n",
        "\n",
        "        if has_more_posts:\n",
        "            print(str(len(my_posts)) + ' posts retrieved so far...')\n",
        "\n",
        "    print('Total posts retrieved: ' + str(len(my_posts)))\n",
        "    \n",
        "    return my_posts"
      ],
      "execution_count": 0,
      "outputs": []
    },
    {
      "cell_type": "markdown",
      "metadata": {
        "id": "9LAYcFfJUmoH",
        "colab_type": "text"
      },
      "source": [
        "Utilizando a função de recuperar os posts"
      ]
    },
    {
      "cell_type": "code",
      "metadata": {
        "id": "2NxIwoFXfLY3",
        "colab_type": "code",
        "outputId": "54304a62-84c5-432a-b2d3-c70b3bbc8e6f",
        "colab": {
          "base_uri": "https://localhost:8080/",
          "height": 35
        }
      },
      "source": [
        "my_posts = get_my_posts(API)"
      ],
      "execution_count": 0,
      "outputs": [
        {
          "output_type": "stream",
          "text": [
            "Total posts retrieved: 1\n"
          ],
          "name": "stdout"
        }
      ]
    },
    {
      "cell_type": "code",
      "metadata": {
        "id": "Y4kXDuD0g2dE",
        "colab_type": "code",
        "outputId": "f8ae7dfd-0449-4dd9-d595-6e05135d0373",
        "colab": {
          "base_uri": "https://localhost:8080/",
          "height": 1000
        }
      },
      "source": [
        "my_posts"
      ],
      "execution_count": 0,
      "outputs": [
        {
          "output_type": "execute_result",
          "data": {
            "text/plain": [
              "[{'can_view_more_preview_comments': False,\n",
              "  'can_viewer_reshare': True,\n",
              "  'can_viewer_save': True,\n",
              "  'caption': None,\n",
              "  'caption_is_edited': False,\n",
              "  'client_cache_key': 'MjA4MDkyNjYxODY4MDY5MzUzMA==.2',\n",
              "  'code': 'Bzg77wGHhMa',\n",
              "  'comment_count': 2,\n",
              "  'comment_likes_enabled': True,\n",
              "  'comment_threading_enabled': False,\n",
              "  'device_timestamp': 64410454124448,\n",
              "  'direct_reply_to_author_enabled': True,\n",
              "  'facepile_top_likers': [{'full_name': 'Sítio Família  Marcelino',\n",
              "    'is_private': False,\n",
              "    'is_verified': False,\n",
              "    'pk': 11894832565,\n",
              "    'profile_pic_id': '2003418359652598279_11894832565',\n",
              "    'profile_pic_url': 'https://scontent-iad3-1.cdninstagram.com/vp/e7e76a64df24fbbb69cfc786d5fa9472/5DC5E313/t51.2885-19/s150x150/54512001_382747862573957_8120321145573474304_n.jpg?_nc_ht=scontent-iad3-1.cdninstagram.com',\n",
              "    'username': 'sitio_familia_marcelino'}],\n",
              "  'fb_user_tags': {'in': []},\n",
              "  'filter_type': 0,\n",
              "  'has_liked': False,\n",
              "  'has_more_comments': False,\n",
              "  'id': '2080926618680693530_15737342168',\n",
              "  'image_versions2': {'candidates': [{'estimated_scans_sizes': [9697,\n",
              "      19394,\n",
              "      29091,\n",
              "      38788,\n",
              "      48485,\n",
              "      58521,\n",
              "      70845,\n",
              "      78898,\n",
              "      87273],\n",
              "     'height': 750,\n",
              "     'url': 'https://scontent-iad3-1.cdninstagram.com/vp/6fc3fb573c655f423acdcc2966f9a2f6/5DBB191F/t51.2885-15/sh0.08/e35/s750x750/65048870_718034501985600_3435918456098289162_n.jpg?_nc_ht=scontent-iad3-1.cdninstagram.com&ig_cache_key=MjA4MDkyNjYxODY4MDY5MzUzMA%3D%3D.2&_nc_ig_catcb=1',\n",
              "     'width': 750},\n",
              "    {'estimated_scans_sizes': [1641,\n",
              "      3282,\n",
              "      4924,\n",
              "      6565,\n",
              "      8206,\n",
              "      10244,\n",
              "      132313,\n",
              "      14772,\n",
              "      14772],\n",
              "     'height': 240,\n",
              "     'url': 'https://scontent-iad3-1.cdninstagram.com/vp/d7e35f9ac6c35d25c089c24320a0b0f4/5DA152F2/t51.2885-15/e35/s240x240/65048870_718034501985600_3435918456098289162_n.jpg?_nc_ht=scontent-iad3-1.cdninstagram.com&ig_cache_key=MjA4MDkyNjYxODY4MDY5MzUzMA%3D%3D.2&_nc_ig_catcb=1',\n",
              "     'width': 240}]},\n",
              "  'inline_composer_display_condition': 'impression_trigger',\n",
              "  'like_count': 1,\n",
              "  'likers': [{'full_name': 'Sítio Família  Marcelino',\n",
              "    'is_private': False,\n",
              "    'is_verified': False,\n",
              "    'pk': 11894832565,\n",
              "    'profile_pic_id': '2003418359652598279_11894832565',\n",
              "    'profile_pic_url': 'https://scontent-iad3-1.cdninstagram.com/vp/e7e76a64df24fbbb69cfc786d5fa9472/5DC5E313/t51.2885-19/s150x150/54512001_382747862573957_8120321145573474304_n.jpg?_nc_ht=scontent-iad3-1.cdninstagram.com',\n",
              "    'username': 'sitio_familia_marcelino'}],\n",
              "  'max_num_visible_preview_comments': 2,\n",
              "  'media_type': 1,\n",
              "  'organic_tracking_token': 'eyJ2ZXJzaW9uIjo1LCJwYXlsb2FkIjp7ImlzX2FuYWx5dGljc190cmFja2VkIjpmYWxzZSwidXVpZCI6ImFhMjdkMGUyMjNhYzRmMDc4ZmFiZGRiN2VkYzc1NTdmMjA4MDkyNjYxODY4MDY5MzUzMCIsInNlcnZlcl90b2tlbiI6IjE1NjI2MjQyOTEwNTF8MjA4MDkyNjYxODY4MDY5MzUzMHwxNTczNzM0MjE2OHwyN2I0MTQzNGVjYTdkYjRiZmRmMDNhZmMwNTdlM2Y4MTJkODE3NjZkNTQ2Yzg3ZTQ0NGM5OTQxNzJmZDhlNTI5In0sInNpZ25hdHVyZSI6IiJ9',\n",
              "  'original_height': 1080,\n",
              "  'original_width': 1080,\n",
              "  'photo_of_you': False,\n",
              "  'pk': 2080926618680693530,\n",
              "  'preview_comments': [{'bit_flags': 0,\n",
              "    'content_type': 'comment',\n",
              "    'created_at': 1562286051,\n",
              "    'created_at_utc': 1562286051,\n",
              "    'did_report_as_spam': False,\n",
              "    'media_id': 2080926618680693530,\n",
              "    'pk': 17842227808525971,\n",
              "    'restricted_status': 0,\n",
              "    'share_enabled': False,\n",
              "    'status': 'Active',\n",
              "    'text': 'Bacana!',\n",
              "    'type': 0,\n",
              "    'user': {'full_name': 'Sítio Família  Marcelino',\n",
              "     'is_private': False,\n",
              "     'is_verified': False,\n",
              "     'pk': 11894832565,\n",
              "     'profile_pic_id': '2003418359652598279_11894832565',\n",
              "     'profile_pic_url': 'https://scontent-iad3-1.cdninstagram.com/vp/e7e76a64df24fbbb69cfc786d5fa9472/5DC5E313/t51.2885-19/s150x150/54512001_382747862573957_8120321145573474304_n.jpg?_nc_ht=scontent-iad3-1.cdninstagram.com',\n",
              "     'username': 'sitio_familia_marcelino'},\n",
              "    'user_id': 11894832565},\n",
              "   {'bit_flags': 0,\n",
              "    'content_type': 'comment',\n",
              "    'created_at': 1562286068,\n",
              "    'created_at_utc': 1562286068,\n",
              "    'did_report_as_spam': False,\n",
              "    'media_id': 2080926618680693530,\n",
              "    'pk': 17844810418509671,\n",
              "    'restricted_status': 0,\n",
              "    'share_enabled': False,\n",
              "    'status': 'Active',\n",
              "    'text': 'Bem legal.',\n",
              "    'type': 0,\n",
              "    'user': {'full_name': 'Sítio Família  Marcelino',\n",
              "     'is_private': False,\n",
              "     'is_verified': False,\n",
              "     'pk': 11894832565,\n",
              "     'profile_pic_id': '2003418359652598279_11894832565',\n",
              "     'profile_pic_url': 'https://scontent-iad3-1.cdninstagram.com/vp/e7e76a64df24fbbb69cfc786d5fa9472/5DC5E313/t51.2885-19/s150x150/54512001_382747862573957_8120321145573474304_n.jpg?_nc_ht=scontent-iad3-1.cdninstagram.com',\n",
              "     'username': 'sitio_familia_marcelino'},\n",
              "    'user_id': 11894832565}],\n",
              "  'taken_at': 1562285805,\n",
              "  'top_likers': ['sitio_familia_marcelino'],\n",
              "  'user': {'allowed_commenter_type': 'any',\n",
              "   'can_boost_post': False,\n",
              "   'can_see_organic_insights': False,\n",
              "   'full_name': 'Raphael Nardoto Barboza',\n",
              "   'has_anonymous_profile_picture': True,\n",
              "   'is_private': False,\n",
              "   'is_unpublished': False,\n",
              "   'is_verified': False,\n",
              "   'pk': 15737342168,\n",
              "   'profile_pic_url': 'https://instagram.flaz1-1.fna.fbcdn.net/vp/200eb6012b917729903d7751d5edb53b/5DA39AF1/t51.2885-19/44884218_345707102882519_2446069589734326272_n.jpg?_nc_ht=instagram.flaz1-1.fna.fbcdn.net',\n",
              "   'reel_auto_archive': 'unset',\n",
              "   'show_insights_terms': False,\n",
              "   'username': 'raphaelnbarboza'}}]"
            ]
          },
          "metadata": {
            "tags": []
          },
          "execution_count": 9
        }
      ]
    },
    {
      "cell_type": "markdown",
      "metadata": {
        "id": "paqFhdkEUxtq",
        "colab_type": "text"
      },
      "source": [
        "Função que recupera quem deu like nas postagens"
      ]
    },
    {
      "cell_type": "code",
      "metadata": {
        "id": "XsdDlc9FgdC7",
        "colab_type": "code",
        "colab": {}
      },
      "source": [
        "def get_posts_likers(api, my_posts):\n",
        "    '''Retrieve all likers on all posts'''\n",
        "    \n",
        "    likers = []\n",
        "    \n",
        "    print('wait %.1f minutes' % (len(my_posts)*2/60.))\n",
        "    for i in range(len(my_posts)):\n",
        "        m_id = my_posts[i]['id']\n",
        "        api.getMediaLikers(m_id)\n",
        "        \n",
        "        likers += [api.LastJson]\n",
        "        \n",
        "        # Include post_id in likers dict list\n",
        "        likers[i]['post_id'] = m_id\n",
        "        \n",
        "        time.sleep(2)\n",
        "    print('done')\n",
        "    \n",
        "    return likers"
      ],
      "execution_count": 0,
      "outputs": []
    },
    {
      "cell_type": "markdown",
      "metadata": {
        "id": "kH5zC4lCU_LO",
        "colab_type": "text"
      },
      "source": [
        "Utilizando a função"
      ]
    },
    {
      "cell_type": "code",
      "metadata": {
        "id": "voMlSzaAgpGd",
        "colab_type": "code",
        "outputId": "aae8e79e-91ad-463a-cb2c-f7c3d2d35b61",
        "colab": {
          "base_uri": "https://localhost:8080/",
          "height": 54
        }
      },
      "source": [
        "likers = get_posts_likers(API, my_posts) "
      ],
      "execution_count": 0,
      "outputs": [
        {
          "output_type": "stream",
          "text": [
            "wait 0.0 minutes\n",
            "done\n"
          ],
          "name": "stdout"
        }
      ]
    },
    {
      "cell_type": "code",
      "metadata": {
        "id": "5MVKmvrvguXE",
        "colab_type": "code",
        "outputId": "4146ba12-f326-46a0-d5d6-1b80a481b332",
        "colab": {
          "base_uri": "https://localhost:8080/",
          "height": 237
        }
      },
      "source": [
        "likers"
      ],
      "execution_count": 0,
      "outputs": [
        {
          "output_type": "execute_result",
          "data": {
            "text/plain": [
              "[{'post_id': '2080926618680693530_15737342168',\n",
              "  'status': 'ok',\n",
              "  'user_count': 1,\n",
              "  'users': [{'full_name': 'Sítio Família  Marcelino',\n",
              "    'is_private': False,\n",
              "    'is_verified': False,\n",
              "    'latest_reel_media': 0,\n",
              "    'pk': 11894832565,\n",
              "    'profile_pic_id': '2003418359652598279_11894832565',\n",
              "    'profile_pic_url': 'https://scontent-iad3-1.cdninstagram.com/vp/e7e76a64df24fbbb69cfc786d5fa9472/5DC5E313/t51.2885-19/s150x150/54512001_382747862573957_8120321145573474304_n.jpg?_nc_ht=scontent-iad3-1.cdninstagram.com',\n",
              "    'username': 'sitio_familia_marcelino'}]}]"
            ]
          },
          "metadata": {
            "tags": []
          },
          "execution_count": 12
        }
      ]
    },
    {
      "cell_type": "markdown",
      "metadata": {
        "id": "wQFHU-icyNXJ",
        "colab_type": "text"
      },
      "source": [
        "Função que recupera as mídias com os ids que são passados"
      ]
    },
    {
      "cell_type": "code",
      "metadata": {
        "id": "2i8e-I9GyfFE",
        "colab_type": "code",
        "colab": {}
      },
      "source": [
        "API.getUsernameInfo(user_id)\n",
        "n_media = API.LastJson['user']['media_count']"
      ],
      "execution_count": 0,
      "outputs": []
    },
    {
      "cell_type": "code",
      "metadata": {
        "id": "eww6r0G2yNxy",
        "colab_type": "code",
        "outputId": "9cfaafea-6022-4d93-a75f-215ae4364aac",
        "colab": {
          "base_uri": "https://localhost:8080/",
          "height": 35
        }
      },
      "source": [
        "media_ids = []\n",
        "max_id = ''\n",
        "for i in range(int(n_media/18+1)): \n",
        "    API.getUserFeed(usernameId=user_id, maxid = max_id)\n",
        "    media_ids += API.LastJson['items'] \n",
        "    if API.LastJson['more_available']==False:\n",
        "        print(\"no more avaliable\")            \n",
        "        break\n",
        "    max_id = API.LastJson['next_max_id'] \n",
        "    print( i, \"   next media id = \", max_id, \"  \", len(media_ids))\n",
        "    time.sleep(3)"
      ],
      "execution_count": 0,
      "outputs": [
        {
          "output_type": "stream",
          "text": [
            "no more avaliable\n"
          ],
          "name": "stdout"
        }
      ]
    },
    {
      "cell_type": "markdown",
      "metadata": {
        "id": "kGraLogmVuaq",
        "colab_type": "text"
      },
      "source": [
        "Trecho que retorns o relacionamentos de seguidores "
      ]
    },
    {
      "cell_type": "code",
      "metadata": {
        "id": "8wJHqTBw5dyQ",
        "colab_type": "code",
        "colab": {}
      },
      "source": [
        "import pandas as pd\n",
        "import tqdm as tqdm\n"
      ],
      "execution_count": 0,
      "outputs": []
    },
    {
      "cell_type": "code",
      "metadata": {
        "id": "A6UsK9Qo5lbQ",
        "colab_type": "code",
        "outputId": "b1c34a01-1b32-4792-d8ba-1dea62bd9dd2",
        "colab": {
          "base_uri": "https://localhost:8080/",
          "height": 35
        }
      },
      "source": [
        "API.getSelfUsernameInfo()\n",
        "result = API.LastJson\n",
        "user_id = result['user']['pk'] # my own personal user id\n",
        "me = result['user']['full_name'] # my own personal username\n",
        "\n",
        "API.getSelfUsersFollowing()\n",
        "result = API.LastJson\n",
        "follow_relationships = []\n",
        "for user in tqdm(result['users']):\n",
        "    followed_user_id = user['pk'] \n",
        "    followed_user_name = user['full_name']\n",
        "    follow_relationships.append((user_id, followed_user_id, me, followed_user_name))\n",
        "    API.getUserFollowings(followed_user_id)\n",
        "    result2 = API.LastJson\n",
        "    if result2.get('users') is not None:\n",
        "        for user2 in result2['users']:\n",
        "            follow_relationships.append((followed_user_id, user2['pk'],\n",
        "                                         followed_user_name, user2['full_name']))"
      ],
      "execution_count": 0,
      "outputs": [
        {
          "output_type": "stream",
          "text": [
            "100%|██████████| 2/2 [00:00<00:00,  2.74it/s]\n"
          ],
          "name": "stderr"
        }
      ]
    },
    {
      "cell_type": "markdown",
      "metadata": {
        "id": "5EAeRQzKlMdz",
        "colab_type": "text"
      },
      "source": [
        "Transforma o resultado em dataframe"
      ]
    },
    {
      "cell_type": "code",
      "metadata": {
        "id": "oaDomh636Ehk",
        "colab_type": "code",
        "colab": {}
      },
      "source": [
        "df = pd.DataFrame(follow_relationships,\n",
        "                  columns=['src_id','dst_id', 'src_name', 'dst_name'])"
      ],
      "execution_count": 0,
      "outputs": []
    },
    {
      "cell_type": "code",
      "metadata": {
        "id": "TW9bYwC68k3t",
        "colab_type": "code",
        "outputId": "ac05fb93-978e-4d28-e452-f9a5bc955988",
        "colab": {
          "base_uri": "https://localhost:8080/",
          "height": 1000
        }
      },
      "source": [
        "df.head"
      ],
      "execution_count": 0,
      "outputs": [
        {
          "output_type": "execute_result",
          "data": {
            "text/plain": [
              "<bound method NDFrame.head of            src_id  ...                       dst_name\n",
              "0     15737342168  ...                   Ekipar Epi's\n",
              "1      7678672537  ...        Raphael Nardoto Barboza\n",
              "2      7678672537  ...       Sítio Família  Marcelino\n",
              "3      7678672537  ...             Imperio Cerimonial\n",
              "4      7678672537  ...         vanessa hinode oficial\n",
              "5      7678672537  ...                   Karine Gomes\n",
              "6      7678672537  ...                       Jovelina\n",
              "7      7678672537  ...                 Atelier da Nat\n",
              "8      7678672537  ...           Restaurante Natureba\n",
              "9      7678672537  ...                    Arildo Reis\n",
              "10     7678672537  ...                 Gedeon Martins\n",
              "11     7678672537  ...              Janaina guimaraes\n",
              "12     7678672537  ...               😻\"027996425375\"😺\n",
              "13     7678672537  ...            Vinicios Bremenkamp\n",
              "14     7678672537  ...      Feira Tupperware da Penha\n",
              "15     7678672537  ...                 Loja5Irmaosvni\n",
              "16     7678672537  ...           Camisaria Do Esporte\n",
              "17     7678672537  ...                  Regina Gueler\n",
              "18     7678672537  ...               EDBOX VIDRAÇARIA\n",
              "19     7678672537  ...       JosiCipriano lash desing\n",
              "20     7678672537  ...                Café Pedra Azul\n",
              "21     7678672537  ...                   Felipe Assis\n",
              "22     7678672537  ...           Projeto Mãos: a Obra\n",
              "23     7678672537  ...              Ednardo Falchetto\n",
              "24     7678672537  ...                    Bruno Senna\n",
              "25     7678672537  ...               Alves Construção\n",
              "26     7678672537  ...                     Robson Feu\n",
              "27     7678672537  ...  Bravim Material de Construção\n",
              "28     7678672537  ...    Marcio Junior Reboli Reboli\n",
              "29     7678672537  ...                  Ótica Serrana\n",
              "...           ...  ...                            ...\n",
              "1351  11894832565  ...                 Adriele Pizzol\n",
              "1352  11894832565  ...               Cristina Peterle\n",
              "1353  11894832565  ...             Flaviani Schneider\n",
              "1354  11894832565  ...              Canal Informática\n",
              "1355  11894832565  ...                 Wagner Barreto\n",
              "1356  11894832565  ...                Rubyellen Paiva\n",
              "1357  11894832565  ...                Michelle Cintra\n",
              "1358  11894832565  ...        Patricia Aguiar Imóveis\n",
              "1359  11894832565  ...            Trail Vivendas Club\n",
              "1360  11894832565  ...          Studio Tatiane Passon\n",
              "1361  11894832565  ...               Camila Borghardt\n",
              "1362  11894832565  ...                Sidinéia Bellon\n",
              "1363  11894832565  ...                  Carime Jabour\n",
              "1364  11894832565  ...                    Dayana Lima\n",
              "1365  11894832565  ...               Fernando Behague\n",
              "1366  11894832565  ...                  Maninha Canal\n",
              "1367  11894832565  ...                  sidney victor\n",
              "1368  11894832565  ...                  🎀Poly Pioli 🎀\n",
              "1369  11894832565  ...             Atelie Derê Araujo\n",
              "1370  11894832565  ...          Sirley Martins Mamede\n",
              "1371  11894832565  ...                 Lorena Santana\n",
              "1372  11894832565  ...                 NUTRIENTESAGRO\n",
              "1373  11894832565  ...        Lilian Tonete Guimarães\n",
              "1374  11894832565  ...                    Canal Thony\n",
              "1375  11894832565  ...               Lourdes Salvador\n",
              "1376  11894832565  ...                    cervasporai\n",
              "1377  11894832565  ...            Montanhas Capixabas\n",
              "1378  11894832565  ...                 Indiara Delavi\n",
              "1379  11894832565  ...                 Marcia Sampaio\n",
              "1380  11894832565  ...                Fabio Schneider\n",
              "\n",
              "[1381 rows x 4 columns]>"
            ]
          },
          "metadata": {
            "tags": []
          },
          "execution_count": 54
        }
      ]
    },
    {
      "cell_type": "code",
      "metadata": {
        "id": "nCp55hfiLav0",
        "colab_type": "code",
        "outputId": "ff48329d-710e-4351-d1d5-7730a431debd",
        "colab": {
          "base_uri": "https://localhost:8080/",
          "height": 288
        }
      },
      "source": [
        "df.describe()"
      ],
      "execution_count": 0,
      "outputs": [
        {
          "output_type": "execute_result",
          "data": {
            "text/html": [
              "<div>\n",
              "<style scoped>\n",
              "    .dataframe tbody tr th:only-of-type {\n",
              "        vertical-align: middle;\n",
              "    }\n",
              "\n",
              "    .dataframe tbody tr th {\n",
              "        vertical-align: top;\n",
              "    }\n",
              "\n",
              "    .dataframe thead th {\n",
              "        text-align: right;\n",
              "    }\n",
              "</style>\n",
              "<table border=\"1\" class=\"dataframe\">\n",
              "  <thead>\n",
              "    <tr style=\"text-align: right;\">\n",
              "      <th></th>\n",
              "      <th>src_id</th>\n",
              "      <th>dst_id</th>\n",
              "    </tr>\n",
              "  </thead>\n",
              "  <tbody>\n",
              "    <tr>\n",
              "      <th>count</th>\n",
              "      <td>1.381000e+03</td>\n",
              "      <td>1.381000e+03</td>\n",
              "    </tr>\n",
              "    <tr>\n",
              "      <th>mean</th>\n",
              "      <td>1.050519e+10</td>\n",
              "      <td>5.298829e+09</td>\n",
              "    </tr>\n",
              "    <tr>\n",
              "      <th>std</th>\n",
              "      <td>1.993885e+09</td>\n",
              "      <td>3.761953e+09</td>\n",
              "    </tr>\n",
              "    <tr>\n",
              "      <th>min</th>\n",
              "      <td>7.678673e+09</td>\n",
              "      <td>1.600103e+07</td>\n",
              "    </tr>\n",
              "    <tr>\n",
              "      <th>25%</th>\n",
              "      <td>7.678673e+09</td>\n",
              "      <td>1.644055e+09</td>\n",
              "    </tr>\n",
              "    <tr>\n",
              "      <th>50%</th>\n",
              "      <td>1.189483e+10</td>\n",
              "      <td>5.509548e+09</td>\n",
              "    </tr>\n",
              "    <tr>\n",
              "      <th>75%</th>\n",
              "      <td>1.189483e+10</td>\n",
              "      <td>7.960428e+09</td>\n",
              "    </tr>\n",
              "    <tr>\n",
              "      <th>max</th>\n",
              "      <td>1.573734e+10</td>\n",
              "      <td>1.573734e+10</td>\n",
              "    </tr>\n",
              "  </tbody>\n",
              "</table>\n",
              "</div>"
            ],
            "text/plain": [
              "             src_id        dst_id\n",
              "count  1.381000e+03  1.381000e+03\n",
              "mean   1.050519e+10  5.298829e+09\n",
              "std    1.993885e+09  3.761953e+09\n",
              "min    7.678673e+09  1.600103e+07\n",
              "25%    7.678673e+09  1.644055e+09\n",
              "50%    1.189483e+10  5.509548e+09\n",
              "75%    1.189483e+10  7.960428e+09\n",
              "max    1.573734e+10  1.573734e+10"
            ]
          },
          "metadata": {
            "tags": []
          },
          "execution_count": 64
        }
      ]
    },
    {
      "cell_type": "markdown",
      "metadata": {
        "id": "hKCj0hTZlcsG",
        "colab_type": "text"
      },
      "source": [
        "Cria um grafo com as informações do dataframe gerado do seguidores"
      ]
    },
    {
      "cell_type": "code",
      "metadata": {
        "id": "DvxtHwG58eYV",
        "colab_type": "code",
        "colab": {}
      },
      "source": [
        "import networkx as nx"
      ],
      "execution_count": 0,
      "outputs": []
    },
    {
      "cell_type": "code",
      "metadata": {
        "id": "M3w6L_ao8LGh",
        "colab_type": "code",
        "colab": {}
      },
      "source": [
        "nx.draw(G2, with_labels = True)\n",
        "plt.show()"
      ],
      "execution_count": 0,
      "outputs": []
    },
    {
      "cell_type": "code",
      "metadata": {
        "id": "_dRlbbaq8QXM",
        "colab_type": "code",
        "colab": {}
      },
      "source": [
        "def DataFrame2Graph(dataframe):\n",
        "    G = nx.Graph()\n",
        "    for i in range(dataframe.shape[0]):\n",
        "        # retrieve the first and the second column for each line\n",
        "        u,v = dataframe[['src_name','dst_name']].iloc[i]\n",
        "        #adds the edge (u,v) to the graph \n",
        "        G.add_edge(u,v)\n",
        "    \n",
        "    return G"
      ],
      "execution_count": 0,
      "outputs": []
    },
    {
      "cell_type": "code",
      "metadata": {
        "id": "Muep_sEI8RcA",
        "colab_type": "code",
        "colab": {}
      },
      "source": [
        "G1 = DataFrame2Graph(df)"
      ],
      "execution_count": 0,
      "outputs": []
    },
    {
      "cell_type": "markdown",
      "metadata": {
        "id": "RUt-owUnllLB",
        "colab_type": "text"
      },
      "source": [
        "Visualização do grafo gerado"
      ]
    },
    {
      "cell_type": "code",
      "metadata": {
        "id": "2dX0VfuX9HYt",
        "colab_type": "code",
        "colab": {}
      },
      "source": [
        "import matplotlib.pyplot as plt"
      ],
      "execution_count": 0,
      "outputs": []
    },
    {
      "cell_type": "code",
      "metadata": {
        "id": "ABv0GPRU8WpM",
        "colab_type": "code",
        "outputId": "901f4903-07a1-4d0a-e54d-3e8e43a1246c",
        "colab": {
          "base_uri": "https://localhost:8080/",
          "height": 319
        }
      },
      "source": [
        "nx.draw(G1, with_labels = True)\n",
        "plt.show()"
      ],
      "execution_count": 0,
      "outputs": [
        {
          "output_type": "display_data",
          "data": {
            "image/png": "[encoded data removed]",
            "text/plain": [
              "<Figure size 432x288 with 1 Axes>"
            ]
          },
          "metadata": {
            "tags": []
          }
        }
      ]
    },
    {
      "cell_type": "markdown",
      "metadata": {
        "id": "aO7leIlMoJnz",
        "colab_type": "text"
      },
      "source": [
        ""
      ]
    },
    {
      "cell_type": "markdown",
      "metadata": {
        "id": "jUYpV42voJqK",
        "colab_type": "text"
      },
      "source": [
        "Exportando para para CSV para criar a visualização no Cytoscape"
      ]
    },
    {
      "cell_type": "code",
      "metadata": {
        "id": "Hi8u3QBWIbtD",
        "colab_type": "code",
        "colab": {}
      },
      "source": [
        "df.to_csv(\"intagram2.csv\")"
      ],
      "execution_count": 0,
      "outputs": []
    },
    {
      "cell_type": "markdown",
      "metadata": {
        "id": "_2OdzHhRoZmS",
        "colab_type": "text"
      },
      "source": [
        "Exibição da rede no Cytoscape"
      ]
    },
    {
      "cell_type": "markdown",
      "metadata": {
        "id": "Y-AdhORCsX1r",
        "colab_type": "text"
      },
      "source": [
        "![alt text](https://txr3ag.sn.files.1drv.com/y4mSxnpJblDot12x2Pfwqz5QfWvZniG72gdfurh-VZ16RYTAkDx1BMV-prC5-AiQTKE6T-WCo6vml3mM5A5NbVAAz_df4lHdwI5WsrIBNaBJM02630uwZidU3f2xHtN_zPG-nC_FNFP6-5yxbd0M_MBeZA4dry8u1H1gZPGwAHriE5QnQ4AXdI8W0f1KDQJrejrdI8NcNftmMWrq576YBll6A?width=959&height=433&cropmode=none)"
      ]
    }
  ]
}